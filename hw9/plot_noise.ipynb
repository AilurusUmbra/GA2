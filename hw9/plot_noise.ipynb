{
 "cells": [
  {
   "cell_type": "code",
   "execution_count": 2,
   "metadata": {},
   "outputs": [
    {
     "data": {
      "image/png": "[encoded data removed]",
      "text/plain": [
       "<Figure size 432x288 with 1 Axes>"
      ]
     },
     "metadata": {},
     "output_type": "display_data"
    }
   ],
   "source": [
    "import matplotlib.pyplot as plt\n",
    "import pandas as pd\n",
    "noise = pd.read_csv(\"noisy_data.out.txt\", header=None, sep='\\t')\n",
    "plt.scatter(noise[0], noise[1])\n",
    "plt.show()\n",
    "\n"
   ]
  },
  {
   "cell_type": "code",
   "execution_count": 3,
   "metadata": {},
   "outputs": [
    {
     "data": {
      "text/plain": [
       "100"
      ]
     },
     "execution_count": 3,
     "metadata": {},
     "output_type": "execute_result"
    }
   ],
   "source": [
    "len(noise)"
   ]
  },
  {
   "cell_type": "code",
   "execution_count": 7,
   "metadata": {},
   "outputs": [
    {
     "data": {
      "text/plain": [
       "0    -1.753579\n",
       "1    -1.479057\n",
       "2    -1.522144\n",
       "3    -1.381426\n",
       "4    -0.947253\n",
       "5    -0.771246\n",
       "6    -0.959575\n",
       "7    -0.883407\n",
       "8    -0.592598\n",
       "9    -0.535789\n",
       "10   -0.295276\n",
       "11   -0.421762\n",
       "12   -0.298537\n",
       "13   -0.389315\n",
       "14   -0.694377\n",
       "15   -0.755573\n",
       "16   -0.402048\n",
       "17   -0.738077\n",
       "18   -0.689186\n",
       "19   -0.713451\n",
       "20   -0.813904\n",
       "21   -0.763539\n",
       "22   -0.936464\n",
       "23   -0.933456\n",
       "24   -0.813299\n",
       "25   -0.964044\n",
       "26   -1.013668\n",
       "27   -0.618990\n",
       "28   -0.879877\n",
       "29   -1.036491\n",
       "        ...   \n",
       "70    0.705784\n",
       "71    1.131855\n",
       "72    0.677352\n",
       "73    1.229533\n",
       "74    1.122883\n",
       "75    0.806342\n",
       "76    0.914541\n",
       "77    0.778239\n",
       "78    0.911040\n",
       "79    0.657087\n",
       "80    0.803197\n",
       "81    0.992419\n",
       "82    0.819622\n",
       "83    0.452019\n",
       "84    0.561682\n",
       "85    0.627684\n",
       "86    0.439700\n",
       "87    0.313084\n",
       "88    0.482491\n",
       "89    0.722082\n",
       "90    0.090997\n",
       "91    0.544227\n",
       "92    0.482613\n",
       "93    0.465625\n",
       "94    1.026807\n",
       "95    1.151545\n",
       "96    1.356610\n",
       "97    1.708003\n",
       "98    1.730892\n",
       "99    1.145660\n",
       "Name: 1, Length: 100, dtype: float64"
      ]
     },
     "execution_count": 7,
     "metadata": {},
     "output_type": "execute_result"
    }
   ],
   "source": [
    "n = noise[1].copy()+1\n",
    "noise[1]"
   ]
  },
  {
   "cell_type": "code",
   "execution_count": 6,
   "metadata": {},
   "outputs": [
    {
     "data": {
      "text/plain": [
       "0    -0.753579\n",
       "1    -0.479057\n",
       "2    -0.522144\n",
       "3    -0.381426\n",
       "4     0.052747\n",
       "5     0.228754\n",
       "6     0.040425\n",
       "7     0.116593\n",
       "8     0.407402\n",
       "9     0.464211\n",
       "10    0.704724\n",
       "11    0.578238\n",
       "12    0.701463\n",
       "13    0.610685\n",
       "14    0.305623\n",
       "15    0.244427\n",
       "16    0.597952\n",
       "17    0.261923\n",
       "18    0.310814\n",
       "19    0.286549\n",
       "20    0.186096\n",
       "21    0.236461\n",
       "22    0.063536\n",
       "23    0.066544\n",
       "24    0.186701\n",
       "25    0.035956\n",
       "26   -0.013668\n",
       "27    0.381010\n",
       "28    0.120123\n",
       "29   -0.036491\n",
       "        ...   \n",
       "70    1.705784\n",
       "71    2.131855\n",
       "72    1.677352\n",
       "73    2.229533\n",
       "74    2.122883\n",
       "75    1.806342\n",
       "76    1.914541\n",
       "77    1.778239\n",
       "78    1.911040\n",
       "79    1.657087\n",
       "80    1.803197\n",
       "81    1.992419\n",
       "82    1.819622\n",
       "83    1.452019\n",
       "84    1.561682\n",
       "85    1.627684\n",
       "86    1.439700\n",
       "87    1.313084\n",
       "88    1.482491\n",
       "89    1.722082\n",
       "90    1.090997\n",
       "91    1.544227\n",
       "92    1.482613\n",
       "93    1.465625\n",
       "94    2.026807\n",
       "95    2.151545\n",
       "96    2.356610\n",
       "97    2.708003\n",
       "98    2.730892\n",
       "99    2.145660\n",
       "Name: 1, Length: 100, dtype: float64"
      ]
     },
     "execution_count": 6,
     "metadata": {},
     "output_type": "execute_result"
    }
   ],
   "source": [
    "n"
   ]
  },
  {
   "cell_type": "code",
   "execution_count": null,
   "metadata": {},
   "outputs": [],
   "source": []
  }
 ],
 "metadata": {
  "kernelspec": {
   "display_name": "Python 3",
   "language": "python",
   "name": "python3"
  },
  "language_info": {
   "codemirror_mode": {
    "name": "ipython",
    "version": 3
   },
   "file_extension": ".py",
   "mimetype": "text/x-python",
   "name": "python",
   "nbconvert_exporter": "python",
   "pygments_lexer": "ipython3",
   "version": "3.6.5"
  }
 },
 "nbformat": 4,
 "nbformat_minor": 2
}
