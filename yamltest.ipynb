{
 "cells": [
  {
   "cell_type": "code",
   "execution_count": 35,
   "metadata": {},
   "outputs": [],
   "source": [
    "import yaml\n",
    "import pprint"
   ]
  },
  {
   "cell_type": "code",
   "execution_count": null,
   "metadata": {},
   "outputs": [],
   "source": [
    "\"\"\"# Argument Parser\n",
    "import argparse\n",
    "parser = argparse.ArgumentParser(description='Validating YAML file...')\n",
    "parser.add_argument('-i', '--inputFile', type=str, help='intput filename', required=True)\n",
    "parser.add_argument('-o', '--outputFile', type=str, help='output filename', required=True)\n",
    "parser.add_argument('-q', '--quite', type=str, help='quiet mode')\n",
    "args = parser.parse_args()\n",
    "\n",
    "\n",
    "f= open(arg.outputFile, \"w+\")\n",
    "\"\"\""
   ]
  },
  {
   "cell_type": "code",
   "execution_count": 27,
   "metadata": {},
   "outputs": [
    {
     "data": {
      "text/plain": [
       "['hw1_bad_input1.cfg',\n",
       " 'hw1_bad_input2.cfg',\n",
       " 'hw1_bad_input3.cfg',\n",
       " 'hw1_good_input1.cfg',\n",
       " 'hw1_good_input2.cfg']"
      ]
     },
     "execution_count": 27,
     "metadata": {},
     "output_type": "execute_result"
    }
   ],
   "source": [
    "filelist = !ls hw1\n",
    "filelist"
   ]
  },
  {
   "cell_type": "code",
   "execution_count": 44,
   "metadata": {},
   "outputs": [],
   "source": [
    "yd = []\n",
    "for file in filelist:\n",
    "    yd.append(yaml.load(open('hw1/' + file)))\n"
   ]
  },
  {
   "cell_type": "code",
   "execution_count": 65,
   "metadata": {},
   "outputs": [
    {
     "data": {
      "text/plain": [
       "['populationSize',\n",
       " 'generationCount',\n",
       " 'randomSeed',\n",
       " 'evaluatorType',\n",
       " 'jobName',\n",
       " 'scalingParam']"
      ]
     },
     "execution_count": 65,
     "metadata": {},
     "output_type": "execute_result"
    }
   ],
   "source": [
    "list(yd[0]['EC_Engine'].keys())"
   ]
  },
  {
   "cell_type": "code",
   "execution_count": 70,
   "metadata": {},
   "outputs": [
    {
     "data": {
      "text/plain": [
       "{'EC_Engine': {'populationSize': 100,\n",
       "  'generationCount': 50,\n",
       "  'randomSeed': 10,\n",
       "  'evaluatorType': 'parabola',\n",
       "  'jobName': 'test',\n",
       "  'scalingParam': 2.5}}"
      ]
     },
     "execution_count": 70,
     "metadata": {},
     "output_type": "execute_result"
    }
   ],
   "source": [
    "yd[3]"
   ]
  },
  {
   "cell_type": "code",
   "execution_count": 42,
   "metadata": {
    "scrolled": false
   },
   "outputs": [
    {
     "name": "stdout",
     "output_type": "stream",
     "text": [
      "[{'EC_Engine': {'evaluatorType': 'parabola',\n",
      "                'generationCount': 'fifty',\n",
      "                'jobName': 'test',\n",
      "                'populationSize': 100,\n",
      "                'randomSeed': 10,\n",
      "                'scalingParam': 2.5}},\n",
      " {'EC_Engine': {'evaluatorType': 'parabola',\n",
      "                'generationCount': 50,\n",
      "                'jobName': 'test',\n",
      "                'randomSeed': 10,\n",
      "                'scalingParam': 2.5}},\n",
      " {'EC_Erngine': {'evaluatorType': 'parabola',\n",
      "                 'generationCount': 50,\n",
      "                 'jobName': 'test',\n",
      "                 'populationSize': 100,\n",
      "                 'randomSeed': 10,\n",
      "                 'scalingParam': 2.5}},\n",
      " {'EC_Engine': {'evaluatorType': 'parabola',\n",
      "                'generationCount': 50,\n",
      "                'jobName': 'test',\n",
      "                'populationSize': 100,\n",
      "                'randomSeed': 10,\n",
      "                'scalingParam': 2.5}},\n",
      " {'EC_Engine': {'evaluatorType': 'rastrigrin',\n",
      "                'generationCount': 25,\n",
      "                'populationSize': 50}}]\n"
     ]
    }
   ],
   "source": [
    "pp = pprint.PrettyPrinter()\n",
    "pp.pprint(yd)"
   ]
  },
  {
   "cell_type": "code",
   "execution_count": 71,
   "metadata": {},
   "outputs": [],
   "source": [
    "schema = {'EC_Engine': {'populationSize': 100,\n",
    "  'generationCount': 50,\n",
    "  'randomSeed': 10,\n",
    "  'evaluatorType': 'parabola',\n",
    "  'jobName': 'test',\n",
    "  'scalingParam': 2.5}}"
   ]
  },
  {
   "cell_type": "code",
   "execution_count": 83,
   "metadata": {},
   "outputs": [
    {
     "name": "stdout",
     "output_type": "stream",
     "text": [
      "100 <class 'int'>\n",
      "50 <class 'int'>\n",
      "10 <class 'int'>\n",
      "parabola <class 'str'>\n",
      "test <class 'str'>\n",
      "2.5 <class 'float'>\n"
     ]
    }
   ],
   "source": [
    "for item in list(schema['EC_Engine'].values()):\n",
    "    print(item, type(item))"
   ]
  },
  {
   "cell_type": "code",
   "execution_count": 95,
   "metadata": {},
   "outputs": [
    {
     "ename": "ValueError",
     "evalue": "too many values to unpack (expected 2)",
     "output_type": "error",
     "traceback": [
      "\u001b[0;31m---------------------------------------------------------------------------\u001b[0m",
      "\u001b[0;31mValueError\u001b[0m                                Traceback (most recent call last)",
      "\u001b[0;32m<ipython-input-95-58ead939297b>\u001b[0m in \u001b[0;36m<module>\u001b[0;34m()\u001b[0m\n\u001b[0;32m----> 1\u001b[0;31m \u001b[0;32mfor\u001b[0m \u001b[0mk\u001b[0m\u001b[0;34m,\u001b[0m\u001b[0mv\u001b[0m \u001b[0;32min\u001b[0m \u001b[0myd\u001b[0m\u001b[0;34m[\u001b[0m\u001b[0;36m3\u001b[0m\u001b[0;34m]\u001b[0m\u001b[0;34m[\u001b[0m\u001b[0;34m'EC_Engine'\u001b[0m\u001b[0;34m]\u001b[0m\u001b[0;34m:\u001b[0m\u001b[0;34m\u001b[0m\u001b[0m\n\u001b[0m\u001b[1;32m      2\u001b[0m     \u001b[0mprint\u001b[0m\u001b[0;34m(\u001b[0m\u001b[0mk\u001b[0m\u001b[0;34m)\u001b[0m\u001b[0;34m\u001b[0m\u001b[0m\n",
      "\u001b[0;31mValueError\u001b[0m: too many values to unpack (expected 2)"
     ]
    }
   ],
   "source": [
    "for k,v in yd[3]['EC_Engine']:\n",
    "    print(k)"
   ]
  },
  {
   "cell_type": "code",
   "execution_count": 99,
   "metadata": {},
   "outputs": [
    {
     "name": "stdout",
     "output_type": "stream",
     "text": [
      "dict_keys(['generationCount', 'randomSeed', 'evaluatorType', 'jobName', 'scalingParam'])\n"
     ]
    }
   ],
   "source": [
    "for k, v in yd[1].items():\n",
    "    print(v.keys())"
   ]
  },
  {
   "cell_type": "code",
   "execution_count": 105,
   "metadata": {},
   "outputs": [],
   "source": [
    "mandatoryParams = ['populationSize', 'generationCount', 'evaluatorType']"
   ]
  },
  {
   "cell_type": "code",
   "execution_count": 120,
   "metadata": {},
   "outputs": [
    {
     "ename": "TypeError",
     "evalue": "unhashable type: 'dict'",
     "output_type": "error",
     "traceback": [
      "\u001b[0;31m---------------------------------------------------------------------------\u001b[0m",
      "\u001b[0;31mTypeError\u001b[0m                                 Traceback (most recent call last)",
      "\u001b[0;32m<ipython-input-120-e82aa5fdd4f6>\u001b[0m in \u001b[0;36m<module>\u001b[0;34m()\u001b[0m\n\u001b[1;32m      1\u001b[0m \u001b[0;32mfor\u001b[0m \u001b[0mthose\u001b[0m \u001b[0;32min\u001b[0m \u001b[0mlist\u001b[0m\u001b[0;34m(\u001b[0m\u001b[0myd\u001b[0m\u001b[0;34m[\u001b[0m\u001b[0;36m2\u001b[0m\u001b[0;34m]\u001b[0m\u001b[0;34m.\u001b[0m\u001b[0mvalues\u001b[0m\u001b[0;34m(\u001b[0m\u001b[0;34m)\u001b[0m\u001b[0;34m)\u001b[0m\u001b[0;34m:\u001b[0m\u001b[0;34m\u001b[0m\u001b[0m\n\u001b[0;32m----> 2\u001b[0;31m     \u001b[0mprint\u001b[0m\u001b[0;34m(\u001b[0m\u001b[0myd\u001b[0m\u001b[0;34m[\u001b[0m\u001b[0;36m2\u001b[0m\u001b[0;34m]\u001b[0m\u001b[0;34m[\u001b[0m\u001b[0mthose\u001b[0m\u001b[0;34m]\u001b[0m\u001b[0;34m)\u001b[0m\u001b[0;34m\u001b[0m\u001b[0m\n\u001b[0m",
      "\u001b[0;31mTypeError\u001b[0m: unhashable type: 'dict'"
     ]
    }
   ],
   "source": [
    "for those in list(yd[2].valys()):\n",
    "    print(yd[2][those])"
   ]
  },
  {
   "cell_type": "code",
   "execution_count": 123,
   "metadata": {},
   "outputs": [
    {
     "data": {
      "text/plain": [
       "dict_values([100, 50, 10, 'parabola', 'test', 2.5])"
      ]
     },
     "execution_count": 123,
     "metadata": {},
     "output_type": "execute_result"
    }
   ],
   "source": [
    "yd[2]['EC_Erngine'].values()"
   ]
  },
  {
   "cell_type": "code",
   "execution_count": 188,
   "metadata": {},
   "outputs": [
    {
     "name": "stdout",
     "output_type": "stream",
     "text": [
      "Exception occurs...\n",
      "exception parameter:  ['eapopulationSize']\n"
     ]
    }
   ],
   "source": [
    "import yaml\n",
    "\n",
    "# Read input yaml\n",
    "inputyaml = yaml.load(open('hw1/b4', \"r\"))\n",
    "\n",
    "# Validation\n",
    "schema = {'EC_Engine': {'populationSize': 100,\n",
    "  'generationCount': 50,\n",
    "  'randomSeed': 10,\n",
    "  'evaluatorType': 'parabola',\n",
    "  'jobName': 'test',\n",
    "  'scalingParam': 2.5}}\n",
    "mandatoryParams = ['populationSize', 'generationCount', 'evaluatorType']\n",
    "\n",
    "missingParams = []\n",
    "incorrectTypes = []\n",
    "exceptParams = []\n",
    "\n",
    "if 'EC_Engine' in inputyaml.keys():\n",
    "    # check missing parameters\n",
    "    for p in mandatoryParams:\n",
    "        if p not in inputyaml['EC_Engine'].keys():\n",
    "            missingParams.append(p)\n",
    "\n",
    "    # check incorrect types\n",
    "    try:\n",
    "        for p in inputyaml['EC_Engine'].keys():\n",
    "            if type(schema['EC_Engine'][p]) != type(inputyaml['EC_Engine'][p]):\n",
    "                incorrectTypes.append(p)\n",
    "    except:\n",
    "        exceptParams.append(p)\n",
    "        print(\"Exception occurs...\")\n",
    "        print('exception parameter: ', exceptParams)\n",
    "\n",
    "else:\n",
    "    missingParams.append('EC_Engine')\n",
    "\n",
    "\n",
    "# Write validation results\n",
    "validation = {'missingParams': sorted(missingParams), \n",
    "              'incorrectTypes': sorted(incorrectTypes)}\n",
    "with open('rst.yml', 'w') as outfile:\n",
    "    yaml.dump(validation, outfile, default_style=False)\n",
    "    #outfile.write(validation)\n",
    "#validation\n",
    "#q = None"
   ]
  },
  {
   "cell_type": "code",
   "execution_count": 189,
   "metadata": {},
   "outputs": [
    {
     "name": "stdout",
     "output_type": "stream",
     "text": [
      "incorrectTypes: []\r\n",
      "missingParams: [generationCount, populationSize]\r\n"
     ]
    }
   ],
   "source": [
    "!cat rst.yml"
   ]
  },
  {
   "cell_type": "code",
   "execution_count": null,
   "metadata": {},
   "outputs": [],
   "source": []
  }
 ],
 "metadata": {
  "kernelspec": {
   "display_name": "Python 3",
   "language": "python",
   "name": "python3"
  },
  "language_info": {
   "codemirror_mode": {
    "name": "ipython",
    "version": 3
   },
   "file_extension": ".py",
   "mimetype": "text/x-python",
   "name": "python",
   "nbconvert_exporter": "python",
   "pygments_lexer": "ipython3",
   "version": "3.6.5"
  }
 },
 "nbformat": 4,
 "nbformat_minor": 2
}
